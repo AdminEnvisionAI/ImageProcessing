{
  "nbformat": 4,
  "nbformat_minor": 0,
  "metadata": {
    "colab": {
      "provenance": []
    },
    "kernelspec": {
      "name": "python3",
      "display_name": "Python 3"
    },
    "language_info": {
      "name": "python"
    }
  },
  "cells": [
    {
      "cell_type": "code",
      "execution_count": null,
      "metadata": {
        "id": "k171Wwvunpb3"
      },
      "outputs": [],
      "source": [
        "# Image Resizing\n",
        "from PIL import Image\n",
        "\n",
        "def resize_image(image_path, new_width, new_height):\n",
        "    try:\n",
        "        img = Image.open(image_path)\n",
        "        resized_img = img.resize((new_width, new_height))\n",
        "        return resized_img\n",
        "    except FileNotFoundError:\n",
        "        print(f\"Error: Image file not found at {image_path}\")\n",
        "        return None\n",
        "    except Exception as e:\n",
        "        print(f\"An error occurred: {e}\")\n",
        "        return None\n",
        "\n",
        "# Example usage\n",
        "resized_image = resize_image(\"/content/Dish.jpg\", 200, 150)\n",
        "\n",
        "if resized_image:\n",
        "    resized_image.save(\"/content/resized_image.jpg\")"
      ]
    },
    {
      "cell_type": "code",
      "source": [
        "# Image custom rotation\n",
        "from PIL import Image\n",
        "\n",
        "def rotate_image(image_path, angle):\n",
        "    try:\n",
        "        img = Image.open(image_path)\n",
        "        rotated_img = img.rotate(angle)\n",
        "        return rotated_img\n",
        "    except FileNotFoundError:\n",
        "        print(f\"Error: Image file not found at {image_path}\")\n",
        "        return None\n",
        "    except Exception as e:\n",
        "        print(f\"An error occurred: {e}\")\n",
        "        return None\n",
        "\n",
        "# Example usage\n",
        "rotated_image = rotate_image(\"/content/Dish.jpg\", 45)  # Rotate by 45 degrees\n",
        "\n",
        "if rotated_image:\n",
        "    rotated_image.save(\"/content/rotated_image.jpg\")"
      ],
      "metadata": {
        "id": "6KAR3ZLpsdvE"
      },
      "execution_count": null,
      "outputs": []
    },
    {
      "cell_type": "code",
      "source": [
        "# image color adjustment\n",
        "\n",
        "from PIL import Image, ImageEnhance\n",
        "\n",
        "# Image color adjustment\n",
        "\n",
        "def adjust_image_color(image_path, brightness=1, contrast=1, saturation=1, sharpness=1):\n",
        "    try:\n",
        "        img = Image.open(image_path)\n",
        "        enhancer_brightness = ImageEnhance.Brightness(img)\n",
        "        img = enhancer_brightness.enhance(brightness)\n",
        "        enhancer_contrast = ImageEnhance.Contrast(img)\n",
        "        img = enhancer_contrast.enhance(contrast)\n",
        "        enhancer_saturation = ImageEnhance.Color(img)\n",
        "        img = enhancer_saturation.enhance(saturation)\n",
        "        enhancer_sharpness = ImageEnhance.Sharpness(img)\n",
        "        img = enhancer_sharpness.enhance(sharpness)\n",
        "        return img\n",
        "    except FileNotFoundError:\n",
        "        print(f\"Error: Image file not found at {image_path}\")\n",
        "        return None\n",
        "    except Exception as e:\n",
        "        print(f\"An error occurred: {e}\")\n",
        "        return None\n",
        "\n",
        "# Example usage\n",
        "adjusted_image = adjust_image_color(\"/content/Dish.jpg\", brightness=1.5, contrast=1.2, saturation=0.8, sharpness=1.3)\n",
        "\n",
        "if adjusted_image:\n",
        "    adjusted_image.save(\"/content/adjusted_image.jpg\")"
      ],
      "metadata": {
        "id": "yDs9XI5QtPNJ"
      },
      "execution_count": null,
      "outputs": []
    },
    {
      "cell_type": "code",
      "source": [
        "# Color to Grayscale image conversion\n",
        "from PIL import Image\n",
        "\n",
        "def convert_to_grayscale(image_path, output_path):\n",
        "    try:\n",
        "        img = Image.open(image_path).convert(\"L\")\n",
        "        img.save(output_path)\n",
        "        print(f\"Grayscale image saved to {output_path}\")\n",
        "    except FileNotFoundError:\n",
        "        print(f\"Error: Image file not found at {image_path}\")\n",
        "    except Exception as e:\n",
        "        print(f\"An error occurred: {e}\")\n",
        "\n",
        "# Example usage\n",
        "convert_to_grayscale(\"/content/Dish.jpg\", \"/content/grayscale_image.jpg\")"
      ],
      "metadata": {
        "colab": {
          "base_uri": "https://localhost:8080/"
        },
        "id": "VPj2_x9_tiIV",
        "outputId": "35b31a3a-c27e-403a-f4eb-c61882461e71"
      },
      "execution_count": null,
      "outputs": [
        {
          "output_type": "stream",
          "name": "stdout",
          "text": [
            "Grayscale image saved to /content/grayscale_image.jpg\n"
          ]
        }
      ]
    }
  ]
}